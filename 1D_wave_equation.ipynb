{
  "nbformat": 4,
  "nbformat_minor": 0,
  "metadata": {
    "colab": {
      "provenance": [],
      "collapsed_sections": []
    },
    "kernelspec": {
      "name": "python3",
      "display_name": "Python 3"
    },
    "language_info": {
      "name": "python"
    },
    "accelerator": "GPU",
    "gpuClass": "standard",
    "widgets": {
      "application/vnd.jupyter.widget-state+json": {
        "b6803c262f204017bbbc8b016145a7d3": {
          "model_module": "@jupyter-widgets/controls",
          "model_name": "VideoModel",
          "model_module_version": "1.5.0",
          "state": {
            "_dom_classes": [],
            "_model_module": "@jupyter-widgets/controls",
            "_model_module_version": "1.5.0",
            "_model_name": "VideoModel",
            "_view_count": null,
            "_view_module": "@jupyter-widgets/controls",
            "_view_module_version": "1.5.0",
            "_view_name": "VideoView",
            "autoplay": true,
            "controls": true,
            "format": "mp4",
            "height": "",
            "layout": "IPY_MODEL_adf312bc19244136889a88558f2fa94d",
            "loop": false,
            "width": ""
          }
        },
        "adf312bc19244136889a88558f2fa94d": {
          "model_module": "@jupyter-widgets/base",
          "model_name": "LayoutModel",
          "model_module_version": "1.2.0",
          "state": {
            "_model_module": "@jupyter-widgets/base",
            "_model_module_version": "1.2.0",
            "_model_name": "LayoutModel",
            "_view_count": null,
            "_view_module": "@jupyter-widgets/base",
            "_view_module_version": "1.2.0",
            "_view_name": "LayoutView",
            "align_content": null,
            "align_items": null,
            "align_self": null,
            "border": null,
            "bottom": null,
            "display": null,
            "flex": null,
            "flex_flow": null,
            "grid_area": null,
            "grid_auto_columns": null,
            "grid_auto_flow": null,
            "grid_auto_rows": null,
            "grid_column": null,
            "grid_gap": null,
            "grid_row": null,
            "grid_template_areas": null,
            "grid_template_columns": null,
            "grid_template_rows": null,
            "height": null,
            "justify_content": null,
            "justify_items": null,
            "left": null,
            "margin": null,
            "max_height": null,
            "max_width": null,
            "min_height": null,
            "min_width": null,
            "object_fit": null,
            "object_position": null,
            "order": null,
            "overflow": null,
            "overflow_x": null,
            "overflow_y": null,
            "padding": null,
            "right": null,
            "top": null,
            "visibility": null,
            "width": null
          }
        }
      }
    }
  },
  "cells": [
    {
      "cell_type": "code",
      "execution_count": 1,
      "metadata": {
        "id": "HiNJkubCVagu"
      },
      "outputs": [],
      "source": [
        "import numpy as np\n",
        "import matplotlib.pyplot as plt\n",
        "import seaborn\n",
        "import matplotlib.animation as ani\n",
        "import scipy.integrate \n",
        "from ipywidgets import Video\n",
        "\n",
        "seaborn.set()"
      ]
    },
    {
      "cell_type": "code",
      "source": [
        "%%capture\n",
        "\n",
        "def f(x):\n",
        "  return -(x**2)*(x-L)\n",
        "\n",
        "def fi(x):\n",
        "  \"\"\"coefficients A_n\"\"\"\n",
        "  return f(x)*np.sin(n*np.pi*x/L)*2/L\n",
        "\n",
        "def g(x):\n",
        "  return x/2\n",
        "\n",
        "def gi(x):\n",
        "  \"\"\"coefficients B_n\"\"\"\n",
        "  return g(x)*np.sin(n*np.pi*x/L)*2/(n*np.pi*a)\n",
        "\n",
        "L=5                        #length of string\n",
        "m=150                      #number of terms in the series for approximation\n",
        "a=0.5                      #wave speed\n",
        "tot_frames=int(200*L/a)\n",
        "\n",
        "A_coeff=[]\n",
        "B_coeff=[]\n",
        "for n in range(1,m+1):\n",
        "  A_coeff.append(scipy.integrate.quad(fi,0,L)[0])\n",
        "  B_coeff.append(scipy.integrate.quad(gi,0,L)[0])\n",
        "\n",
        "xs=np.linspace(0,L,100*L)\n",
        "ys=[np.sum([A_coeff[n]*np.sin((n+1)*np.pi*xs/L)*np.cos((n+1)*np.pi*a*t/(100*L))+\n",
        "            B_coeff[n]*np.sin((n+1)*np.pi*xs/L)*np.sin((n+1)*np.pi*a*t/(100*L)) \n",
        "            for n in range(0,m)],axis=0) for t in range(0,tot_frames)]\n",
        "\n",
        "fig,ax=plt.subplots(figsize=(6,6))\n",
        "fig.suptitle(\"Wave\")\n",
        "fig.tight_layout(pad=2)\n",
        "ln1,=plt.plot(xs,ys[0])\n",
        "\n",
        "def init():\n",
        "  ax.set_xlim(0,L)\n",
        "  ax.set_ylim(1.2*np.min(ys),1.2*np.max(ys),auto=True)\n",
        "  ax.set_ylabel(\"U(X,t)\",size=12)\n",
        "  ax.set_xlabel(\"X\",size=12)\n",
        "  return ln1,\n",
        "\n",
        "def update(frame):\n",
        "  ln1.set_data(xs, ys[frame])\n",
        "  return ln1,\n",
        "\n",
        "ani1 = ani.FuncAnimation(fig, update, frames=range(0,tot_frames),\n",
        "                    init_func=init, repeat=False, interval=3)\n",
        "\n",
        "ani1.save('1D_wave.mp4')"
      ],
      "metadata": {
        "id": "fGT4bmzbVnEd"
      },
      "execution_count": 5,
      "outputs": []
    },
    {
      "cell_type": "code",
      "source": [
        "Video.from_file(\"1D_wave.mp4\",loop=False)"
      ],
      "metadata": {
        "colab": {
          "base_uri": "https://localhost:8080/",
          "height": 457,
          "referenced_widgets": [
            "b6803c262f204017bbbc8b016145a7d3",
            "adf312bc19244136889a88558f2fa94d"
          ]
        },
        "id": "G5U8gRkGYDn6",
        "outputId": "08414a06-b91d-4126-8cd2-56a9eef281be"
      },
      "execution_count": 6,
      "outputs": [
        {
          "output_type": "display_data",
          "data": {
            "text/plain": [
              "Video(value=b'\\x00\\x00\\x00 ftypisom\\x00\\x00\\x02\\x00isomiso2avc1mp41\\x00\\x00\\x00\\x08free\\x00\\x03A\\xa4mdat\\x00\\x…"
            ],
            "application/vnd.jupyter.widget-view+json": {
              "version_major": 2,
              "version_minor": 0,
              "model_id": "b6803c262f204017bbbc8b016145a7d3"
            }
          },
          "metadata": {}
        }
      ]
    }
  ]
}