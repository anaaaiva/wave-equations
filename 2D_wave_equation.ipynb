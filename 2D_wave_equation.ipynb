{
  "nbformat": 4,
  "nbformat_minor": 0,
  "metadata": {
    "colab": {
      "provenance": []
    },
    "kernelspec": {
      "name": "python3",
      "display_name": "Python 3"
    },
    "language_info": {
      "name": "python"
    },
    "widgets": {
      "application/vnd.jupyter.widget-state+json": {
        "14921a1586f748ad8e17345193d040ea": {
          "model_module": "@jupyter-widgets/controls",
          "model_name": "VideoModel",
          "model_module_version": "1.5.0",
          "state": {
            "_dom_classes": [],
            "_model_module": "@jupyter-widgets/controls",
            "_model_module_version": "1.5.0",
            "_model_name": "VideoModel",
            "_view_count": null,
            "_view_module": "@jupyter-widgets/controls",
            "_view_module_version": "1.5.0",
            "_view_name": "VideoView",
            "autoplay": true,
            "controls": true,
            "format": "mp4",
            "height": "",
            "layout": "IPY_MODEL_5228cd93119544808b7a452c99d006b4",
            "loop": false,
            "width": ""
          }
        },
        "5228cd93119544808b7a452c99d006b4": {
          "model_module": "@jupyter-widgets/base",
          "model_name": "LayoutModel",
          "model_module_version": "1.2.0",
          "state": {
            "_model_module": "@jupyter-widgets/base",
            "_model_module_version": "1.2.0",
            "_model_name": "LayoutModel",
            "_view_count": null,
            "_view_module": "@jupyter-widgets/base",
            "_view_module_version": "1.2.0",
            "_view_name": "LayoutView",
            "align_content": null,
            "align_items": null,
            "align_self": null,
            "border": null,
            "bottom": null,
            "display": null,
            "flex": null,
            "flex_flow": null,
            "grid_area": null,
            "grid_auto_columns": null,
            "grid_auto_flow": null,
            "grid_auto_rows": null,
            "grid_column": null,
            "grid_gap": null,
            "grid_row": null,
            "grid_template_areas": null,
            "grid_template_columns": null,
            "grid_template_rows": null,
            "height": null,
            "justify_content": null,
            "justify_items": null,
            "left": null,
            "margin": null,
            "max_height": null,
            "max_width": null,
            "min_height": null,
            "min_width": null,
            "object_fit": null,
            "object_position": null,
            "order": null,
            "overflow": null,
            "overflow_x": null,
            "overflow_y": null,
            "padding": null,
            "right": null,
            "top": null,
            "visibility": null,
            "width": null
          }
        }
      }
    }
  },
  "cells": [
    {
      "cell_type": "code",
      "execution_count": 9,
      "metadata": {
        "id": "ZtGFocJUe8zy"
      },
      "outputs": [],
      "source": [
        "import numpy as np\n",
        "import matplotlib.pyplot as plt\n",
        "import matplotlib.animation as ani\n",
        "import scipy.integrate \n",
        "from ipywidgets import Video"
      ]
    },
    {
      "cell_type": "code",
      "source": [
        "%%capture\n",
        "\n",
        "def f(x,y):\n",
        "  if (x-L/2)**2+(y-H/2)**2 < 1:\n",
        "    return -((x-L/2)**2+(y-H/2)**2-1)\n",
        "  else:\n",
        "    return 0\n",
        "\n",
        "def fi(x,y):\n",
        "  \"\"\"coefficients A_m,n\"\"\"\n",
        "  return f(x,y)*np.sin(n*np.pi*x/L)*np.sin(m*np.pi*y/H)*4/(L*H)\n",
        "\n",
        "def g(x,y):\n",
        "  return 0\n",
        "\n",
        "def gi(x,y):\n",
        "  \"\"\"coefficients B_m,n\"\"\"\n",
        "  return g(x,y)*np.sin(n*np.pi*x/L)*np.sin(m*np.pi*y/H)*4/(np.pi*c*np.sqrt(m**2*L**2+n**2*H**2))\n",
        "\n",
        "L=5\n",
        "H=5\n",
        "j=5\n",
        "k=5\n",
        "c=1\n",
        "tot_frames=750\n",
        "\n",
        "A_coeff=[]\n",
        "B_coeff=[]\n",
        "\n",
        "for n in range(1,k+1):\n",
        "  for m in range(1,j+1):\n",
        "    A_coeff.append(scipy.integrate.dblquad(fi,0,H,0,L)[0])\n",
        "    B_coeff.append(scipy.integrate.dblquad(gi,0,H,0,L)[0])\n",
        "\n",
        "A_coeff=np.array(A_coeff)\n",
        "A_coeff=A_coeff.reshape((k,j,1,1))\n",
        "B_coeff=np.array(B_coeff)\n",
        "B_coeff=B_coeff.reshape((k,j,1,1))\n",
        "\n",
        "x=np.linspace(0,L,250)\n",
        "y=np.linspace(0,H,250)\n",
        "X,Y=np.meshgrid(x,y)\n",
        "\n",
        "sines=np.array([[np.sin(n*np.pi*X/L)*np.sin(m*np.pi*Y/H) for m in range(1,j+1)] \n",
        "          for n in range(1,k+1)])\n",
        "NTDA=A_coeff*sines\n",
        "NTDB=B_coeff*sines\n",
        "NTDA=NTDA.reshape((k,j,len(x),len(y)))\n",
        "NTDB=NTDB.reshape((k,j,len(x),len(y)))\n",
        "\n",
        "sq=np.array([[np.sqrt(m**2/H**2+n**2/L**2)*np.pi*c/25 for m in range(1,j+1)]\n",
        "            for n in range(1,k+1)])\n",
        "\n",
        "z=np.array([np.sum([np.array(NTDA[n-1,m-1]*np.cos(sq[n-1,m-1]*t)+\n",
        "                    NTDB[n-1,m-1]*np.sin(sq[n-1,m-1]*t)) \n",
        "                    for n in range(1,k+1) for m in range(1,j+1)],axis=0) \n",
        "  for t in range(tot_frames)])\n",
        "\n",
        "fig = plt.figure()\n",
        "ax = fig.add_subplot(111, projection='3d')\n",
        "if L > H:\n",
        "  lim=L\n",
        "else:\n",
        "  lim=H\n",
        "\n",
        "def init():\n",
        "  ax.set_xlim(0,lim)\n",
        "  ax.set_ylim(0,lim)\n",
        "  ax.set_zlim(1.2*np.min(z),1.2*np.max(z))\n",
        "  ax.set_xlabel(\"x\",fontsize=18)\n",
        "  ax.set_ylabel(\"y\",fontsize=18)\n",
        "  ax.set_zlabel(\"u(x,y,t)\",fontsize=14)\n",
        "\n",
        "def update_plot(frame,z,plot):\n",
        "  plot[0].remove()\n",
        "  plot[0]=ax.plot_surface(X,Y,z[frame],cmap=\"magma\",linewidth=0)\n",
        "\n",
        "plot=[ax.plot_surface(X,Y,z[0],cmap=\"magma\",linewidth=0)]\n",
        "ani1 = ani.FuncAnimation(fig, update_plot, frames=range(tot_frames),\n",
        "                         init_func=init, repeat=False, fargs=(z, plot), interval=40)\n",
        "\n",
        "ani1.save('2D_parabolic_wave.mp4')"
      ],
      "metadata": {
        "id": "3gisK0cKfKFS"
      },
      "execution_count": 14,
      "outputs": []
    },
    {
      "cell_type": "code",
      "source": [
        "Video.from_file(\"2D_parabolic_wave.mp4\",loop=False)"
      ],
      "metadata": {
        "colab": {
          "base_uri": "https://localhost:8080/",
          "height": 313,
          "referenced_widgets": [
            "14921a1586f748ad8e17345193d040ea",
            "5228cd93119544808b7a452c99d006b4"
          ]
        },
        "id": "wsxYP8hEvayC",
        "outputId": "acf17fb3-e3b0-43c9-c3fe-5cdb2ffb9c63"
      },
      "execution_count": 16,
      "outputs": [
        {
          "output_type": "display_data",
          "data": {
            "text/plain": [
              "Video(value=b'\\x00\\x00\\x00 ftypisom\\x00\\x00\\x02\\x00isomiso2avc1mp41\\x00\\x00\\x00\\x08free\\x00\\x0b\\xe4@mdat\\x00\\x…"
            ],
            "application/vnd.jupyter.widget-view+json": {
              "version_major": 2,
              "version_minor": 0,
              "model_id": "14921a1586f748ad8e17345193d040ea"
            }
          },
          "metadata": {}
        }
      ]
    }
  ]
}